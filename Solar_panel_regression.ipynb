{
  "nbformat": 4,
  "nbformat_minor": 0,
  "metadata": {
    "colab": {
      "provenance": [],
      "authorship_tag": "ABX9TyP2t4hbu5Kp2ZYg9HjQCIEQ",
      "include_colab_link": true
    },
    "kernelspec": {
      "name": "python3",
      "display_name": "Python 3"
    },
    "language_info": {
      "name": "python"
    }
  },
  "cells": [
    {
      "cell_type": "markdown",
      "metadata": {
        "id": "view-in-github",
        "colab_type": "text"
      },
      "source": [
        "<a href=\"https://colab.research.google.com/github/JananiSriSK/Solar_panel_regression/blob/main/Solar_panel_regression.ipynb\" target=\"_parent\"><img src=\"https://colab.research.google.com/assets/colab-badge.svg\" alt=\"Open In Colab\"/></a>"
      ]
    },
    {
      "cell_type": "markdown",
      "source": [
        "#Solar Panel Regression"
      ],
      "metadata": {
        "id": "DDbSRQTYM5IL"
      }
    },
    {
      "cell_type": "markdown",
      "source": [
        "### Objective:\n",
        "To predict solar energy production using environmental factors through various regression models."
      ],
      "metadata": {
        "id": "TYEs1onMTDyK"
      }
    },
    {
      "cell_type": "markdown",
      "source": [
        "## Exploratory Data Analysis"
      ],
      "metadata": {
        "id": "jAr_z3S0Rwoc"
      }
    },
    {
      "cell_type": "markdown",
      "source": [
        "### Basic Data Overview"
      ],
      "metadata": {
        "id": "5YFeXLF_TAsQ"
      }
    },
    {
      "cell_type": "markdown",
      "source": [
        "#### Load the Dataset"
      ],
      "metadata": {
        "id": "MifKd4XcWqGD"
      }
    },
    {
      "cell_type": "code",
      "source": [
        "import pandas as pd"
      ],
      "metadata": {
        "id": "wWz_fMITYwmt"
      },
      "execution_count": null,
      "outputs": []
    },
    {
      "cell_type": "code",
      "source": [
        "data = pd.read_csv(\"../content/solarpowergeneration.csv\")"
      ],
      "metadata": {
        "id": "ZS1UwoZIY1OV"
      },
      "execution_count": null,
      "outputs": []
    },
    {
      "cell_type": "code",
      "source": [
        "df = data.copy()"
      ],
      "metadata": {
        "id": "CgAgvgi1cmLN"
      },
      "execution_count": null,
      "outputs": []
    },
    {
      "cell_type": "code",
      "source": [
        "df.head()"
      ],
      "metadata": {
        "colab": {
          "base_uri": "https://localhost:8080/",
          "height": 223
        },
        "id": "OxGiOCWWZgQn",
        "outputId": "6d9cac25-d8e5-4e7d-b338-69e9506a7f5c"
      },
      "execution_count": null,
      "outputs": [
        {
          "output_type": "execute_result",
          "data": {
            "text/plain": [
              "   distance-to-solar-noon  temperature  wind-direction  wind-speed  sky-cover  \\\n",
              "0                0.859897           69              28         7.5          0   \n",
              "1                0.628535           69              28         7.5          0   \n",
              "2                0.397172           69              28         7.5          0   \n",
              "3                0.165810           69              28         7.5          0   \n",
              "4                0.065553           69              28         7.5          0   \n",
              "\n",
              "   visibility  humidity  average-wind-speed-(period)  \\\n",
              "0        10.0        75                          8.0   \n",
              "1        10.0        77                          5.0   \n",
              "2        10.0        70                          0.0   \n",
              "3        10.0        33                          0.0   \n",
              "4        10.0        21                          3.0   \n",
              "\n",
              "   average-pressure-(period)  power-generated  \n",
              "0                      29.82                0  \n",
              "1                      29.85                0  \n",
              "2                      29.89             5418  \n",
              "3                      29.91            25477  \n",
              "4                      29.89            30069  "
            ],
            "text/html": [
              "\n",
              "  <div id=\"df-d335de01-965a-4d30-8cf0-2ad2c8332681\" class=\"colab-df-container\">\n",
              "    <div>\n",
              "<style scoped>\n",
              "    .dataframe tbody tr th:only-of-type {\n",
              "        vertical-align: middle;\n",
              "    }\n",
              "\n",
              "    .dataframe tbody tr th {\n",
              "        vertical-align: top;\n",
              "    }\n",
              "\n",
              "    .dataframe thead th {\n",
              "        text-align: right;\n",
              "    }\n",
              "</style>\n",
              "<table border=\"1\" class=\"dataframe\">\n",
              "  <thead>\n",
              "    <tr style=\"text-align: right;\">\n",
              "      <th></th>\n",
              "      <th>distance-to-solar-noon</th>\n",
              "      <th>temperature</th>\n",
              "      <th>wind-direction</th>\n",
              "      <th>wind-speed</th>\n",
              "      <th>sky-cover</th>\n",
              "      <th>visibility</th>\n",
              "      <th>humidity</th>\n",
              "      <th>average-wind-speed-(period)</th>\n",
              "      <th>average-pressure-(period)</th>\n",
              "      <th>power-generated</th>\n",
              "    </tr>\n",
              "  </thead>\n",
              "  <tbody>\n",
              "    <tr>\n",
              "      <th>0</th>\n",
              "      <td>0.859897</td>\n",
              "      <td>69</td>\n",
              "      <td>28</td>\n",
              "      <td>7.5</td>\n",
              "      <td>0</td>\n",
              "      <td>10.0</td>\n",
              "      <td>75</td>\n",
              "      <td>8.0</td>\n",
              "      <td>29.82</td>\n",
              "      <td>0</td>\n",
              "    </tr>\n",
              "    <tr>\n",
              "      <th>1</th>\n",
              "      <td>0.628535</td>\n",
              "      <td>69</td>\n",
              "      <td>28</td>\n",
              "      <td>7.5</td>\n",
              "      <td>0</td>\n",
              "      <td>10.0</td>\n",
              "      <td>77</td>\n",
              "      <td>5.0</td>\n",
              "      <td>29.85</td>\n",
              "      <td>0</td>\n",
              "    </tr>\n",
              "    <tr>\n",
              "      <th>2</th>\n",
              "      <td>0.397172</td>\n",
              "      <td>69</td>\n",
              "      <td>28</td>\n",
              "      <td>7.5</td>\n",
              "      <td>0</td>\n",
              "      <td>10.0</td>\n",
              "      <td>70</td>\n",
              "      <td>0.0</td>\n",
              "      <td>29.89</td>\n",
              "      <td>5418</td>\n",
              "    </tr>\n",
              "    <tr>\n",
              "      <th>3</th>\n",
              "      <td>0.165810</td>\n",
              "      <td>69</td>\n",
              "      <td>28</td>\n",
              "      <td>7.5</td>\n",
              "      <td>0</td>\n",
              "      <td>10.0</td>\n",
              "      <td>33</td>\n",
              "      <td>0.0</td>\n",
              "      <td>29.91</td>\n",
              "      <td>25477</td>\n",
              "    </tr>\n",
              "    <tr>\n",
              "      <th>4</th>\n",
              "      <td>0.065553</td>\n",
              "      <td>69</td>\n",
              "      <td>28</td>\n",
              "      <td>7.5</td>\n",
              "      <td>0</td>\n",
              "      <td>10.0</td>\n",
              "      <td>21</td>\n",
              "      <td>3.0</td>\n",
              "      <td>29.89</td>\n",
              "      <td>30069</td>\n",
              "    </tr>\n",
              "  </tbody>\n",
              "</table>\n",
              "</div>\n",
              "    <div class=\"colab-df-buttons\">\n",
              "\n",
              "  <div class=\"colab-df-container\">\n",
              "    <button class=\"colab-df-convert\" onclick=\"convertToInteractive('df-d335de01-965a-4d30-8cf0-2ad2c8332681')\"\n",
              "            title=\"Convert this dataframe to an interactive table.\"\n",
              "            style=\"display:none;\">\n",
              "\n",
              "  <svg xmlns=\"http://www.w3.org/2000/svg\" height=\"24px\" viewBox=\"0 -960 960 960\">\n",
              "    <path d=\"M120-120v-720h720v720H120Zm60-500h600v-160H180v160Zm220 220h160v-160H400v160Zm0 220h160v-160H400v160ZM180-400h160v-160H180v160Zm440 0h160v-160H620v160ZM180-180h160v-160H180v160Zm440 0h160v-160H620v160Z\"/>\n",
              "  </svg>\n",
              "    </button>\n",
              "\n",
              "  <style>\n",
              "    .colab-df-container {\n",
              "      display:flex;\n",
              "      gap: 12px;\n",
              "    }\n",
              "\n",
              "    .colab-df-convert {\n",
              "      background-color: #E8F0FE;\n",
              "      border: none;\n",
              "      border-radius: 50%;\n",
              "      cursor: pointer;\n",
              "      display: none;\n",
              "      fill: #1967D2;\n",
              "      height: 32px;\n",
              "      padding: 0 0 0 0;\n",
              "      width: 32px;\n",
              "    }\n",
              "\n",
              "    .colab-df-convert:hover {\n",
              "      background-color: #E2EBFA;\n",
              "      box-shadow: 0px 1px 2px rgba(60, 64, 67, 0.3), 0px 1px 3px 1px rgba(60, 64, 67, 0.15);\n",
              "      fill: #174EA6;\n",
              "    }\n",
              "\n",
              "    .colab-df-buttons div {\n",
              "      margin-bottom: 4px;\n",
              "    }\n",
              "\n",
              "    [theme=dark] .colab-df-convert {\n",
              "      background-color: #3B4455;\n",
              "      fill: #D2E3FC;\n",
              "    }\n",
              "\n",
              "    [theme=dark] .colab-df-convert:hover {\n",
              "      background-color: #434B5C;\n",
              "      box-shadow: 0px 1px 3px 1px rgba(0, 0, 0, 0.15);\n",
              "      filter: drop-shadow(0px 1px 2px rgba(0, 0, 0, 0.3));\n",
              "      fill: #FFFFFF;\n",
              "    }\n",
              "  </style>\n",
              "\n",
              "    <script>\n",
              "      const buttonEl =\n",
              "        document.querySelector('#df-d335de01-965a-4d30-8cf0-2ad2c8332681 button.colab-df-convert');\n",
              "      buttonEl.style.display =\n",
              "        google.colab.kernel.accessAllowed ? 'block' : 'none';\n",
              "\n",
              "      async function convertToInteractive(key) {\n",
              "        const element = document.querySelector('#df-d335de01-965a-4d30-8cf0-2ad2c8332681');\n",
              "        const dataTable =\n",
              "          await google.colab.kernel.invokeFunction('convertToInteractive',\n",
              "                                                    [key], {});\n",
              "        if (!dataTable) return;\n",
              "\n",
              "        const docLinkHtml = 'Like what you see? Visit the ' +\n",
              "          '<a target=\"_blank\" href=https://colab.research.google.com/notebooks/data_table.ipynb>data table notebook</a>'\n",
              "          + ' to learn more about interactive tables.';\n",
              "        element.innerHTML = '';\n",
              "        dataTable['output_type'] = 'display_data';\n",
              "        await google.colab.output.renderOutput(dataTable, element);\n",
              "        const docLink = document.createElement('div');\n",
              "        docLink.innerHTML = docLinkHtml;\n",
              "        element.appendChild(docLink);\n",
              "      }\n",
              "    </script>\n",
              "  </div>\n",
              "\n",
              "\n",
              "    <div id=\"df-1d904dfb-4e29-4097-a1cd-75e697a834a4\">\n",
              "      <button class=\"colab-df-quickchart\" onclick=\"quickchart('df-1d904dfb-4e29-4097-a1cd-75e697a834a4')\"\n",
              "                title=\"Suggest charts\"\n",
              "                style=\"display:none;\">\n",
              "\n",
              "<svg xmlns=\"http://www.w3.org/2000/svg\" height=\"24px\"viewBox=\"0 0 24 24\"\n",
              "     width=\"24px\">\n",
              "    <g>\n",
              "        <path d=\"M19 3H5c-1.1 0-2 .9-2 2v14c0 1.1.9 2 2 2h14c1.1 0 2-.9 2-2V5c0-1.1-.9-2-2-2zM9 17H7v-7h2v7zm4 0h-2V7h2v10zm4 0h-2v-4h2v4z\"/>\n",
              "    </g>\n",
              "</svg>\n",
              "      </button>\n",
              "\n",
              "<style>\n",
              "  .colab-df-quickchart {\n",
              "      --bg-color: #E8F0FE;\n",
              "      --fill-color: #1967D2;\n",
              "      --hover-bg-color: #E2EBFA;\n",
              "      --hover-fill-color: #174EA6;\n",
              "      --disabled-fill-color: #AAA;\n",
              "      --disabled-bg-color: #DDD;\n",
              "  }\n",
              "\n",
              "  [theme=dark] .colab-df-quickchart {\n",
              "      --bg-color: #3B4455;\n",
              "      --fill-color: #D2E3FC;\n",
              "      --hover-bg-color: #434B5C;\n",
              "      --hover-fill-color: #FFFFFF;\n",
              "      --disabled-bg-color: #3B4455;\n",
              "      --disabled-fill-color: #666;\n",
              "  }\n",
              "\n",
              "  .colab-df-quickchart {\n",
              "    background-color: var(--bg-color);\n",
              "    border: none;\n",
              "    border-radius: 50%;\n",
              "    cursor: pointer;\n",
              "    display: none;\n",
              "    fill: var(--fill-color);\n",
              "    height: 32px;\n",
              "    padding: 0;\n",
              "    width: 32px;\n",
              "  }\n",
              "\n",
              "  .colab-df-quickchart:hover {\n",
              "    background-color: var(--hover-bg-color);\n",
              "    box-shadow: 0 1px 2px rgba(60, 64, 67, 0.3), 0 1px 3px 1px rgba(60, 64, 67, 0.15);\n",
              "    fill: var(--button-hover-fill-color);\n",
              "  }\n",
              "\n",
              "  .colab-df-quickchart-complete:disabled,\n",
              "  .colab-df-quickchart-complete:disabled:hover {\n",
              "    background-color: var(--disabled-bg-color);\n",
              "    fill: var(--disabled-fill-color);\n",
              "    box-shadow: none;\n",
              "  }\n",
              "\n",
              "  .colab-df-spinner {\n",
              "    border: 2px solid var(--fill-color);\n",
              "    border-color: transparent;\n",
              "    border-bottom-color: var(--fill-color);\n",
              "    animation:\n",
              "      spin 1s steps(1) infinite;\n",
              "  }\n",
              "\n",
              "  @keyframes spin {\n",
              "    0% {\n",
              "      border-color: transparent;\n",
              "      border-bottom-color: var(--fill-color);\n",
              "      border-left-color: var(--fill-color);\n",
              "    }\n",
              "    20% {\n",
              "      border-color: transparent;\n",
              "      border-left-color: var(--fill-color);\n",
              "      border-top-color: var(--fill-color);\n",
              "    }\n",
              "    30% {\n",
              "      border-color: transparent;\n",
              "      border-left-color: var(--fill-color);\n",
              "      border-top-color: var(--fill-color);\n",
              "      border-right-color: var(--fill-color);\n",
              "    }\n",
              "    40% {\n",
              "      border-color: transparent;\n",
              "      border-right-color: var(--fill-color);\n",
              "      border-top-color: var(--fill-color);\n",
              "    }\n",
              "    60% {\n",
              "      border-color: transparent;\n",
              "      border-right-color: var(--fill-color);\n",
              "    }\n",
              "    80% {\n",
              "      border-color: transparent;\n",
              "      border-right-color: var(--fill-color);\n",
              "      border-bottom-color: var(--fill-color);\n",
              "    }\n",
              "    90% {\n",
              "      border-color: transparent;\n",
              "      border-bottom-color: var(--fill-color);\n",
              "    }\n",
              "  }\n",
              "</style>\n",
              "\n",
              "      <script>\n",
              "        async function quickchart(key) {\n",
              "          const quickchartButtonEl =\n",
              "            document.querySelector('#' + key + ' button');\n",
              "          quickchartButtonEl.disabled = true;  // To prevent multiple clicks.\n",
              "          quickchartButtonEl.classList.add('colab-df-spinner');\n",
              "          try {\n",
              "            const charts = await google.colab.kernel.invokeFunction(\n",
              "                'suggestCharts', [key], {});\n",
              "          } catch (error) {\n",
              "            console.error('Error during call to suggestCharts:', error);\n",
              "          }\n",
              "          quickchartButtonEl.classList.remove('colab-df-spinner');\n",
              "          quickchartButtonEl.classList.add('colab-df-quickchart-complete');\n",
              "        }\n",
              "        (() => {\n",
              "          let quickchartButtonEl =\n",
              "            document.querySelector('#df-1d904dfb-4e29-4097-a1cd-75e697a834a4 button');\n",
              "          quickchartButtonEl.style.display =\n",
              "            google.colab.kernel.accessAllowed ? 'block' : 'none';\n",
              "        })();\n",
              "      </script>\n",
              "    </div>\n",
              "\n",
              "    </div>\n",
              "  </div>\n"
            ],
            "application/vnd.google.colaboratory.intrinsic+json": {
              "type": "dataframe",
              "variable_name": "df",
              "summary": "{\n  \"name\": \"df\",\n  \"rows\": 2920,\n  \"fields\": [\n    {\n      \"column\": \"distance-to-solar-noon\",\n      \"properties\": {\n        \"dtype\": \"number\",\n        \"std\": 0.298023544001734,\n        \"min\": 0.050400916,\n        \"max\": 1.141361257,\n        \"num_unique_values\": 2660,\n        \"samples\": [\n          0.567094516,\n          0.8032345009999999,\n          0.134087237\n        ],\n        \"semantic_type\": \"\",\n        \"description\": \"\"\n      }\n    },\n    {\n      \"column\": \"temperature\",\n      \"properties\": {\n        \"dtype\": \"number\",\n        \"std\": 6,\n        \"min\": 42,\n        \"max\": 78,\n        \"num_unique_values\": 37,\n        \"samples\": [\n          70,\n          66,\n          77\n        ],\n        \"semantic_type\": \"\",\n        \"description\": \"\"\n      }\n    },\n    {\n      \"column\": \"wind-direction\",\n      \"properties\": {\n        \"dtype\": \"number\",\n        \"std\": 6,\n        \"min\": 1,\n        \"max\": 36,\n        \"num_unique_values\": 35,\n        \"samples\": [\n          13,\n          23,\n          6\n        ],\n        \"semantic_type\": \"\",\n        \"description\": \"\"\n      }\n    },\n    {\n      \"column\": \"wind-speed\",\n      \"properties\": {\n        \"dtype\": \"number\",\n        \"std\": 4.838185069335722,\n        \"min\": 1.1,\n        \"max\": 26.6,\n        \"num_unique_values\": 159,\n        \"samples\": [\n          2.4,\n          13.6,\n          24.4\n        ],\n        \"semantic_type\": \"\",\n        \"description\": \"\"\n      }\n    },\n    {\n      \"column\": \"sky-cover\",\n      \"properties\": {\n        \"dtype\": \"number\",\n        \"std\": 1,\n        \"min\": 0,\n        \"max\": 4,\n        \"num_unique_values\": 5,\n        \"samples\": [\n          1,\n          2,\n          3\n        ],\n        \"semantic_type\": \"\",\n        \"description\": \"\"\n      }\n    },\n    {\n      \"column\": \"visibility\",\n      \"properties\": {\n        \"dtype\": \"number\",\n        \"std\": 1.3838837251314962,\n        \"min\": 0.0,\n        \"max\": 10.0,\n        \"num_unique_values\": 17,\n        \"samples\": [\n          10.0,\n          9.0,\n          6.0\n        ],\n        \"semantic_type\": \"\",\n        \"description\": \"\"\n      }\n    },\n    {\n      \"column\": \"humidity\",\n      \"properties\": {\n        \"dtype\": \"number\",\n        \"std\": 15,\n        \"min\": 14,\n        \"max\": 100,\n        \"num_unique_values\": 75,\n        \"samples\": [\n          21,\n          24,\n          64\n        ],\n        \"semantic_type\": \"\",\n        \"description\": \"\"\n      }\n    },\n    {\n      \"column\": \"average-wind-speed-(period)\",\n      \"properties\": {\n        \"dtype\": \"number\",\n        \"std\": 7.261546523970332,\n        \"min\": 0.0,\n        \"max\": 40.0,\n        \"num_unique_values\": 32,\n        \"samples\": [\n          40.0,\n          22.0,\n          28.0\n        ],\n        \"semantic_type\": \"\",\n        \"description\": \"\"\n      }\n    },\n    {\n      \"column\": \"average-pressure-(period)\",\n      \"properties\": {\n        \"dtype\": \"number\",\n        \"std\": 0.14200583367403752,\n        \"min\": 29.48,\n        \"max\": 30.53,\n        \"num_unique_values\": 90,\n        \"samples\": [\n          30.17,\n          29.72,\n          30.23\n        ],\n        \"semantic_type\": \"\",\n        \"description\": \"\"\n      }\n    },\n    {\n      \"column\": \"power-generated\",\n      \"properties\": {\n        \"dtype\": \"number\",\n        \"std\": 10312,\n        \"min\": 0,\n        \"max\": 36580,\n        \"num_unique_values\": 1529,\n        \"samples\": [\n          5310,\n          685,\n          21125\n        ],\n        \"semantic_type\": \"\",\n        \"description\": \"\"\n      }\n    }\n  ]\n}"
            }
          },
          "metadata": {},
          "execution_count": 4
        }
      ]
    },
    {
      "cell_type": "markdown",
      "source": [
        "#### Basic Dataset Structure\n",
        "\n"
      ],
      "metadata": {
        "id": "KQ2KSo28ZF1L"
      }
    },
    {
      "cell_type": "code",
      "source": [
        "# Shape of the dataset"
      ],
      "metadata": {
        "id": "e9YrAodbaAO9"
      },
      "execution_count": null,
      "outputs": []
    },
    {
      "cell_type": "code",
      "source": [
        "print(\"Shape of dataset:\", df.shape)"
      ],
      "metadata": {
        "colab": {
          "base_uri": "https://localhost:8080/"
        },
        "id": "dzBFothgaIob",
        "outputId": "6b1bf72c-738e-4569-d66f-6e833e8db2d5"
      },
      "execution_count": null,
      "outputs": [
        {
          "output_type": "stream",
          "name": "stdout",
          "text": [
            "Shape of dataset: (2920, 10)\n"
          ]
        }
      ]
    },
    {
      "cell_type": "markdown",
      "source": [
        "From the shape the dataset there are 10 columns and 2920 rows of data."
      ],
      "metadata": {
        "id": "R1clXtgOaL5M"
      }
    },
    {
      "cell_type": "code",
      "source": [
        "# Column names and data types"
      ],
      "metadata": {
        "id": "FFWhZfHDbBmE"
      },
      "execution_count": null,
      "outputs": []
    },
    {
      "cell_type": "code",
      "source": [
        "df.info()"
      ],
      "metadata": {
        "colab": {
          "base_uri": "https://localhost:8080/"
        },
        "id": "iMOe-8tfadub",
        "outputId": "a79631ef-8c14-452c-b348-2cc7429f9602"
      },
      "execution_count": null,
      "outputs": [
        {
          "output_type": "stream",
          "name": "stdout",
          "text": [
            "<class 'pandas.core.frame.DataFrame'>\n",
            "RangeIndex: 2920 entries, 0 to 2919\n",
            "Data columns (total 10 columns):\n",
            " #   Column                       Non-Null Count  Dtype  \n",
            "---  ------                       --------------  -----  \n",
            " 0   distance-to-solar-noon       2920 non-null   float64\n",
            " 1   temperature                  2920 non-null   int64  \n",
            " 2   wind-direction               2920 non-null   int64  \n",
            " 3   wind-speed                   2920 non-null   float64\n",
            " 4   sky-cover                    2920 non-null   int64  \n",
            " 5   visibility                   2920 non-null   float64\n",
            " 6   humidity                     2920 non-null   int64  \n",
            " 7   average-wind-speed-(period)  2919 non-null   float64\n",
            " 8   average-pressure-(period)    2920 non-null   float64\n",
            " 9   power-generated              2920 non-null   int64  \n",
            "dtypes: float64(5), int64(5)\n",
            "memory usage: 228.3 KB\n"
          ]
        }
      ]
    },
    {
      "cell_type": "code",
      "source": [
        "# Missing values"
      ],
      "metadata": {
        "id": "bOZ1gcJXarx3"
      },
      "execution_count": null,
      "outputs": []
    },
    {
      "cell_type": "code",
      "source": [
        "print(\"Missing values:\")\n",
        "df.isnull().sum()"
      ],
      "metadata": {
        "colab": {
          "base_uri": "https://localhost:8080/"
        },
        "id": "JEuyCEZQbOIS",
        "outputId": "5f13ecdf-015d-4bd3-f2d5-db7784393627"
      },
      "execution_count": null,
      "outputs": [
        {
          "output_type": "stream",
          "name": "stdout",
          "text": [
            "Missing values:\n"
          ]
        },
        {
          "output_type": "execute_result",
          "data": {
            "text/plain": [
              "distance-to-solar-noon         0\n",
              "temperature                    0\n",
              "wind-direction                 0\n",
              "wind-speed                     0\n",
              "sky-cover                      0\n",
              "visibility                     0\n",
              "humidity                       0\n",
              "average-wind-speed-(period)    1\n",
              "average-pressure-(period)      0\n",
              "power-generated                0\n",
              "dtype: int64"
            ],
            "text/html": [
              "<div>\n",
              "<style scoped>\n",
              "    .dataframe tbody tr th:only-of-type {\n",
              "        vertical-align: middle;\n",
              "    }\n",
              "\n",
              "    .dataframe tbody tr th {\n",
              "        vertical-align: top;\n",
              "    }\n",
              "\n",
              "    .dataframe thead th {\n",
              "        text-align: right;\n",
              "    }\n",
              "</style>\n",
              "<table border=\"1\" class=\"dataframe\">\n",
              "  <thead>\n",
              "    <tr style=\"text-align: right;\">\n",
              "      <th></th>\n",
              "      <th>0</th>\n",
              "    </tr>\n",
              "  </thead>\n",
              "  <tbody>\n",
              "    <tr>\n",
              "      <th>distance-to-solar-noon</th>\n",
              "      <td>0</td>\n",
              "    </tr>\n",
              "    <tr>\n",
              "      <th>temperature</th>\n",
              "      <td>0</td>\n",
              "    </tr>\n",
              "    <tr>\n",
              "      <th>wind-direction</th>\n",
              "      <td>0</td>\n",
              "    </tr>\n",
              "    <tr>\n",
              "      <th>wind-speed</th>\n",
              "      <td>0</td>\n",
              "    </tr>\n",
              "    <tr>\n",
              "      <th>sky-cover</th>\n",
              "      <td>0</td>\n",
              "    </tr>\n",
              "    <tr>\n",
              "      <th>visibility</th>\n",
              "      <td>0</td>\n",
              "    </tr>\n",
              "    <tr>\n",
              "      <th>humidity</th>\n",
              "      <td>0</td>\n",
              "    </tr>\n",
              "    <tr>\n",
              "      <th>average-wind-speed-(period)</th>\n",
              "      <td>1</td>\n",
              "    </tr>\n",
              "    <tr>\n",
              "      <th>average-pressure-(period)</th>\n",
              "      <td>0</td>\n",
              "    </tr>\n",
              "    <tr>\n",
              "      <th>power-generated</th>\n",
              "      <td>0</td>\n",
              "    </tr>\n",
              "  </tbody>\n",
              "</table>\n",
              "</div><br><label><b>dtype:</b> int64</label>"
            ]
          },
          "metadata": {},
          "execution_count": 10
        }
      ]
    },
    {
      "cell_type": "markdown",
      "source": [
        "average-wind-speed-(period)\tseem to have one missing value."
      ],
      "metadata": {
        "id": "6wVw5jnibQjO"
      }
    },
    {
      "cell_type": "code",
      "source": [],
      "metadata": {
        "id": "qaFHp2Rpbov_"
      },
      "execution_count": null,
      "outputs": []
    },
    {
      "cell_type": "markdown",
      "source": [
        "#### Basic Statistics"
      ],
      "metadata": {
        "id": "I9x2ovCIbp0t"
      }
    },
    {
      "cell_type": "code",
      "source": [
        "df.describe()"
      ],
      "metadata": {
        "colab": {
          "base_uri": "https://localhost:8080/",
          "height": 335
        },
        "id": "6iASyANTbuCl",
        "outputId": "d51626dc-bcf2-4f8b-ee44-59582152b10a"
      },
      "execution_count": null,
      "outputs": [
        {
          "output_type": "execute_result",
          "data": {
            "text/plain": [
              "       distance-to-solar-noon  temperature  wind-direction   wind-speed  \\\n",
              "count             2920.000000  2920.000000     2920.000000  2920.000000   \n",
              "mean                 0.503294    58.468493       24.953425    10.096986   \n",
              "std                  0.298024     6.841200        6.915178     4.838185   \n",
              "min                  0.050401    42.000000        1.000000     1.100000   \n",
              "25%                  0.243714    53.000000       25.000000     6.600000   \n",
              "50%                  0.478957    59.000000       27.000000    10.000000   \n",
              "75%                  0.739528    63.000000       29.000000    13.100000   \n",
              "max                  1.141361    78.000000       36.000000    26.600000   \n",
              "\n",
              "         sky-cover   visibility     humidity  average-wind-speed-(period)  \\\n",
              "count  2920.000000  2920.000000  2920.000000                  2919.000000   \n",
              "mean      1.987671     9.557705    73.513699                    10.129154   \n",
              "std       1.411978     1.383884    15.077139                     7.261547   \n",
              "min       0.000000     0.000000    14.000000                     0.000000   \n",
              "25%       1.000000    10.000000    65.000000                     5.000000   \n",
              "50%       2.000000    10.000000    77.000000                     9.000000   \n",
              "75%       3.000000    10.000000    84.000000                    15.000000   \n",
              "max       4.000000    10.000000   100.000000                    40.000000   \n",
              "\n",
              "       average-pressure-(period)  power-generated  \n",
              "count                2920.000000      2920.000000  \n",
              "mean                   30.017760      6979.846233  \n",
              "std                     0.142006     10312.336413  \n",
              "min                    29.480000         0.000000  \n",
              "25%                    29.920000         0.000000  \n",
              "50%                    30.000000       404.000000  \n",
              "75%                    30.110000     12723.500000  \n",
              "max                    30.530000     36580.000000  "
            ],
            "text/html": [
              "\n",
              "  <div id=\"df-de9ac2d8-ba96-4e43-9cac-75d38a0d4fba\" class=\"colab-df-container\">\n",
              "    <div>\n",
              "<style scoped>\n",
              "    .dataframe tbody tr th:only-of-type {\n",
              "        vertical-align: middle;\n",
              "    }\n",
              "\n",
              "    .dataframe tbody tr th {\n",
              "        vertical-align: top;\n",
              "    }\n",
              "\n",
              "    .dataframe thead th {\n",
              "        text-align: right;\n",
              "    }\n",
              "</style>\n",
              "<table border=\"1\" class=\"dataframe\">\n",
              "  <thead>\n",
              "    <tr style=\"text-align: right;\">\n",
              "      <th></th>\n",
              "      <th>distance-to-solar-noon</th>\n",
              "      <th>temperature</th>\n",
              "      <th>wind-direction</th>\n",
              "      <th>wind-speed</th>\n",
              "      <th>sky-cover</th>\n",
              "      <th>visibility</th>\n",
              "      <th>humidity</th>\n",
              "      <th>average-wind-speed-(period)</th>\n",
              "      <th>average-pressure-(period)</th>\n",
              "      <th>power-generated</th>\n",
              "    </tr>\n",
              "  </thead>\n",
              "  <tbody>\n",
              "    <tr>\n",
              "      <th>count</th>\n",
              "      <td>2920.000000</td>\n",
              "      <td>2920.000000</td>\n",
              "      <td>2920.000000</td>\n",
              "      <td>2920.000000</td>\n",
              "      <td>2920.000000</td>\n",
              "      <td>2920.000000</td>\n",
              "      <td>2920.000000</td>\n",
              "      <td>2919.000000</td>\n",
              "      <td>2920.000000</td>\n",
              "      <td>2920.000000</td>\n",
              "    </tr>\n",
              "    <tr>\n",
              "      <th>mean</th>\n",
              "      <td>0.503294</td>\n",
              "      <td>58.468493</td>\n",
              "      <td>24.953425</td>\n",
              "      <td>10.096986</td>\n",
              "      <td>1.987671</td>\n",
              "      <td>9.557705</td>\n",
              "      <td>73.513699</td>\n",
              "      <td>10.129154</td>\n",
              "      <td>30.017760</td>\n",
              "      <td>6979.846233</td>\n",
              "    </tr>\n",
              "    <tr>\n",
              "      <th>std</th>\n",
              "      <td>0.298024</td>\n",
              "      <td>6.841200</td>\n",
              "      <td>6.915178</td>\n",
              "      <td>4.838185</td>\n",
              "      <td>1.411978</td>\n",
              "      <td>1.383884</td>\n",
              "      <td>15.077139</td>\n",
              "      <td>7.261547</td>\n",
              "      <td>0.142006</td>\n",
              "      <td>10312.336413</td>\n",
              "    </tr>\n",
              "    <tr>\n",
              "      <th>min</th>\n",
              "      <td>0.050401</td>\n",
              "      <td>42.000000</td>\n",
              "      <td>1.000000</td>\n",
              "      <td>1.100000</td>\n",
              "      <td>0.000000</td>\n",
              "      <td>0.000000</td>\n",
              "      <td>14.000000</td>\n",
              "      <td>0.000000</td>\n",
              "      <td>29.480000</td>\n",
              "      <td>0.000000</td>\n",
              "    </tr>\n",
              "    <tr>\n",
              "      <th>25%</th>\n",
              "      <td>0.243714</td>\n",
              "      <td>53.000000</td>\n",
              "      <td>25.000000</td>\n",
              "      <td>6.600000</td>\n",
              "      <td>1.000000</td>\n",
              "      <td>10.000000</td>\n",
              "      <td>65.000000</td>\n",
              "      <td>5.000000</td>\n",
              "      <td>29.920000</td>\n",
              "      <td>0.000000</td>\n",
              "    </tr>\n",
              "    <tr>\n",
              "      <th>50%</th>\n",
              "      <td>0.478957</td>\n",
              "      <td>59.000000</td>\n",
              "      <td>27.000000</td>\n",
              "      <td>10.000000</td>\n",
              "      <td>2.000000</td>\n",
              "      <td>10.000000</td>\n",
              "      <td>77.000000</td>\n",
              "      <td>9.000000</td>\n",
              "      <td>30.000000</td>\n",
              "      <td>404.000000</td>\n",
              "    </tr>\n",
              "    <tr>\n",
              "      <th>75%</th>\n",
              "      <td>0.739528</td>\n",
              "      <td>63.000000</td>\n",
              "      <td>29.000000</td>\n",
              "      <td>13.100000</td>\n",
              "      <td>3.000000</td>\n",
              "      <td>10.000000</td>\n",
              "      <td>84.000000</td>\n",
              "      <td>15.000000</td>\n",
              "      <td>30.110000</td>\n",
              "      <td>12723.500000</td>\n",
              "    </tr>\n",
              "    <tr>\n",
              "      <th>max</th>\n",
              "      <td>1.141361</td>\n",
              "      <td>78.000000</td>\n",
              "      <td>36.000000</td>\n",
              "      <td>26.600000</td>\n",
              "      <td>4.000000</td>\n",
              "      <td>10.000000</td>\n",
              "      <td>100.000000</td>\n",
              "      <td>40.000000</td>\n",
              "      <td>30.530000</td>\n",
              "      <td>36580.000000</td>\n",
              "    </tr>\n",
              "  </tbody>\n",
              "</table>\n",
              "</div>\n",
              "    <div class=\"colab-df-buttons\">\n",
              "\n",
              "  <div class=\"colab-df-container\">\n",
              "    <button class=\"colab-df-convert\" onclick=\"convertToInteractive('df-de9ac2d8-ba96-4e43-9cac-75d38a0d4fba')\"\n",
              "            title=\"Convert this dataframe to an interactive table.\"\n",
              "            style=\"display:none;\">\n",
              "\n",
              "  <svg xmlns=\"http://www.w3.org/2000/svg\" height=\"24px\" viewBox=\"0 -960 960 960\">\n",
              "    <path d=\"M120-120v-720h720v720H120Zm60-500h600v-160H180v160Zm220 220h160v-160H400v160Zm0 220h160v-160H400v160ZM180-400h160v-160H180v160Zm440 0h160v-160H620v160ZM180-180h160v-160H180v160Zm440 0h160v-160H620v160Z\"/>\n",
              "  </svg>\n",
              "    </button>\n",
              "\n",
              "  <style>\n",
              "    .colab-df-container {\n",
              "      display:flex;\n",
              "      gap: 12px;\n",
              "    }\n",
              "\n",
              "    .colab-df-convert {\n",
              "      background-color: #E8F0FE;\n",
              "      border: none;\n",
              "      border-radius: 50%;\n",
              "      cursor: pointer;\n",
              "      display: none;\n",
              "      fill: #1967D2;\n",
              "      height: 32px;\n",
              "      padding: 0 0 0 0;\n",
              "      width: 32px;\n",
              "    }\n",
              "\n",
              "    .colab-df-convert:hover {\n",
              "      background-color: #E2EBFA;\n",
              "      box-shadow: 0px 1px 2px rgba(60, 64, 67, 0.3), 0px 1px 3px 1px rgba(60, 64, 67, 0.15);\n",
              "      fill: #174EA6;\n",
              "    }\n",
              "\n",
              "    .colab-df-buttons div {\n",
              "      margin-bottom: 4px;\n",
              "    }\n",
              "\n",
              "    [theme=dark] .colab-df-convert {\n",
              "      background-color: #3B4455;\n",
              "      fill: #D2E3FC;\n",
              "    }\n",
              "\n",
              "    [theme=dark] .colab-df-convert:hover {\n",
              "      background-color: #434B5C;\n",
              "      box-shadow: 0px 1px 3px 1px rgba(0, 0, 0, 0.15);\n",
              "      filter: drop-shadow(0px 1px 2px rgba(0, 0, 0, 0.3));\n",
              "      fill: #FFFFFF;\n",
              "    }\n",
              "  </style>\n",
              "\n",
              "    <script>\n",
              "      const buttonEl =\n",
              "        document.querySelector('#df-de9ac2d8-ba96-4e43-9cac-75d38a0d4fba button.colab-df-convert');\n",
              "      buttonEl.style.display =\n",
              "        google.colab.kernel.accessAllowed ? 'block' : 'none';\n",
              "\n",
              "      async function convertToInteractive(key) {\n",
              "        const element = document.querySelector('#df-de9ac2d8-ba96-4e43-9cac-75d38a0d4fba');\n",
              "        const dataTable =\n",
              "          await google.colab.kernel.invokeFunction('convertToInteractive',\n",
              "                                                    [key], {});\n",
              "        if (!dataTable) return;\n",
              "\n",
              "        const docLinkHtml = 'Like what you see? Visit the ' +\n",
              "          '<a target=\"_blank\" href=https://colab.research.google.com/notebooks/data_table.ipynb>data table notebook</a>'\n",
              "          + ' to learn more about interactive tables.';\n",
              "        element.innerHTML = '';\n",
              "        dataTable['output_type'] = 'display_data';\n",
              "        await google.colab.output.renderOutput(dataTable, element);\n",
              "        const docLink = document.createElement('div');\n",
              "        docLink.innerHTML = docLinkHtml;\n",
              "        element.appendChild(docLink);\n",
              "      }\n",
              "    </script>\n",
              "  </div>\n",
              "\n",
              "\n",
              "    <div id=\"df-f6ccbcca-5dd5-41da-96e4-c9033564b495\">\n",
              "      <button class=\"colab-df-quickchart\" onclick=\"quickchart('df-f6ccbcca-5dd5-41da-96e4-c9033564b495')\"\n",
              "                title=\"Suggest charts\"\n",
              "                style=\"display:none;\">\n",
              "\n",
              "<svg xmlns=\"http://www.w3.org/2000/svg\" height=\"24px\"viewBox=\"0 0 24 24\"\n",
              "     width=\"24px\">\n",
              "    <g>\n",
              "        <path d=\"M19 3H5c-1.1 0-2 .9-2 2v14c0 1.1.9 2 2 2h14c1.1 0 2-.9 2-2V5c0-1.1-.9-2-2-2zM9 17H7v-7h2v7zm4 0h-2V7h2v10zm4 0h-2v-4h2v4z\"/>\n",
              "    </g>\n",
              "</svg>\n",
              "      </button>\n",
              "\n",
              "<style>\n",
              "  .colab-df-quickchart {\n",
              "      --bg-color: #E8F0FE;\n",
              "      --fill-color: #1967D2;\n",
              "      --hover-bg-color: #E2EBFA;\n",
              "      --hover-fill-color: #174EA6;\n",
              "      --disabled-fill-color: #AAA;\n",
              "      --disabled-bg-color: #DDD;\n",
              "  }\n",
              "\n",
              "  [theme=dark] .colab-df-quickchart {\n",
              "      --bg-color: #3B4455;\n",
              "      --fill-color: #D2E3FC;\n",
              "      --hover-bg-color: #434B5C;\n",
              "      --hover-fill-color: #FFFFFF;\n",
              "      --disabled-bg-color: #3B4455;\n",
              "      --disabled-fill-color: #666;\n",
              "  }\n",
              "\n",
              "  .colab-df-quickchart {\n",
              "    background-color: var(--bg-color);\n",
              "    border: none;\n",
              "    border-radius: 50%;\n",
              "    cursor: pointer;\n",
              "    display: none;\n",
              "    fill: var(--fill-color);\n",
              "    height: 32px;\n",
              "    padding: 0;\n",
              "    width: 32px;\n",
              "  }\n",
              "\n",
              "  .colab-df-quickchart:hover {\n",
              "    background-color: var(--hover-bg-color);\n",
              "    box-shadow: 0 1px 2px rgba(60, 64, 67, 0.3), 0 1px 3px 1px rgba(60, 64, 67, 0.15);\n",
              "    fill: var(--button-hover-fill-color);\n",
              "  }\n",
              "\n",
              "  .colab-df-quickchart-complete:disabled,\n",
              "  .colab-df-quickchart-complete:disabled:hover {\n",
              "    background-color: var(--disabled-bg-color);\n",
              "    fill: var(--disabled-fill-color);\n",
              "    box-shadow: none;\n",
              "  }\n",
              "\n",
              "  .colab-df-spinner {\n",
              "    border: 2px solid var(--fill-color);\n",
              "    border-color: transparent;\n",
              "    border-bottom-color: var(--fill-color);\n",
              "    animation:\n",
              "      spin 1s steps(1) infinite;\n",
              "  }\n",
              "\n",
              "  @keyframes spin {\n",
              "    0% {\n",
              "      border-color: transparent;\n",
              "      border-bottom-color: var(--fill-color);\n",
              "      border-left-color: var(--fill-color);\n",
              "    }\n",
              "    20% {\n",
              "      border-color: transparent;\n",
              "      border-left-color: var(--fill-color);\n",
              "      border-top-color: var(--fill-color);\n",
              "    }\n",
              "    30% {\n",
              "      border-color: transparent;\n",
              "      border-left-color: var(--fill-color);\n",
              "      border-top-color: var(--fill-color);\n",
              "      border-right-color: var(--fill-color);\n",
              "    }\n",
              "    40% {\n",
              "      border-color: transparent;\n",
              "      border-right-color: var(--fill-color);\n",
              "      border-top-color: var(--fill-color);\n",
              "    }\n",
              "    60% {\n",
              "      border-color: transparent;\n",
              "      border-right-color: var(--fill-color);\n",
              "    }\n",
              "    80% {\n",
              "      border-color: transparent;\n",
              "      border-right-color: var(--fill-color);\n",
              "      border-bottom-color: var(--fill-color);\n",
              "    }\n",
              "    90% {\n",
              "      border-color: transparent;\n",
              "      border-bottom-color: var(--fill-color);\n",
              "    }\n",
              "  }\n",
              "</style>\n",
              "\n",
              "      <script>\n",
              "        async function quickchart(key) {\n",
              "          const quickchartButtonEl =\n",
              "            document.querySelector('#' + key + ' button');\n",
              "          quickchartButtonEl.disabled = true;  // To prevent multiple clicks.\n",
              "          quickchartButtonEl.classList.add('colab-df-spinner');\n",
              "          try {\n",
              "            const charts = await google.colab.kernel.invokeFunction(\n",
              "                'suggestCharts', [key], {});\n",
              "          } catch (error) {\n",
              "            console.error('Error during call to suggestCharts:', error);\n",
              "          }\n",
              "          quickchartButtonEl.classList.remove('colab-df-spinner');\n",
              "          quickchartButtonEl.classList.add('colab-df-quickchart-complete');\n",
              "        }\n",
              "        (() => {\n",
              "          let quickchartButtonEl =\n",
              "            document.querySelector('#df-f6ccbcca-5dd5-41da-96e4-c9033564b495 button');\n",
              "          quickchartButtonEl.style.display =\n",
              "            google.colab.kernel.accessAllowed ? 'block' : 'none';\n",
              "        })();\n",
              "      </script>\n",
              "    </div>\n",
              "\n",
              "    </div>\n",
              "  </div>\n"
            ],
            "application/vnd.google.colaboratory.intrinsic+json": {
              "type": "dataframe",
              "summary": "{\n  \"name\": \"df\",\n  \"rows\": 8,\n  \"fields\": [\n    {\n      \"column\": \"distance-to-solar-noon\",\n      \"properties\": {\n        \"dtype\": \"number\",\n        \"std\": 1032.201436436076,\n        \"min\": 0.050400916,\n        \"max\": 2920.0,\n        \"num_unique_values\": 8,\n        \"samples\": [\n          0.5032940280626712,\n          0.47895689650000006,\n          2920.0\n        ],\n        \"semantic_type\": \"\",\n        \"description\": \"\"\n      }\n    },\n    {\n      \"column\": \"temperature\",\n      \"properties\": {\n        \"dtype\": \"number\",\n        \"std\": 1014.3906267934482,\n        \"min\": 6.84120031203902,\n        \"max\": 2920.0,\n        \"num_unique_values\": 8,\n        \"samples\": [\n          58.46849315068493,\n          59.0,\n          2920.0\n        ],\n        \"semantic_type\": \"\",\n        \"description\": \"\"\n      }\n    },\n    {\n      \"column\": \"wind-direction\",\n      \"properties\": {\n        \"dtype\": \"number\",\n        \"std\": 1024.872872840463,\n        \"min\": 1.0,\n        \"max\": 2920.0,\n        \"num_unique_values\": 8,\n        \"samples\": [\n          24.953424657534246,\n          27.0,\n          2920.0\n        ],\n        \"semantic_type\": \"\",\n        \"description\": \"\"\n      }\n    },\n    {\n      \"column\": \"wind-speed\",\n      \"properties\": {\n        \"dtype\": \"number\",\n        \"std\": 1028.7503219884493,\n        \"min\": 1.1,\n        \"max\": 2920.0,\n        \"num_unique_values\": 8,\n        \"samples\": [\n          10.096986301369864,\n          10.0,\n          2920.0\n        ],\n        \"semantic_type\": \"\",\n        \"description\": \"\"\n      }\n    },\n    {\n      \"column\": \"sky-cover\",\n      \"properties\": {\n        \"dtype\": \"number\",\n        \"std\": 1031.6998287751073,\n        \"min\": 0.0,\n        \"max\": 2920.0,\n        \"num_unique_values\": 8,\n        \"samples\": [\n          1.9876712328767123,\n          2.0,\n          2920.0\n        ],\n        \"semantic_type\": \"\",\n        \"description\": \"\"\n      }\n    },\n    {\n      \"column\": \"visibility\",\n      \"properties\": {\n        \"dtype\": \"number\",\n        \"std\": 1029.8114615279283,\n        \"min\": 0.0,\n        \"max\": 2920.0,\n        \"num_unique_values\": 5,\n        \"samples\": [\n          9.557705479452055,\n          10.0,\n          1.3838837251314962\n        ],\n        \"semantic_type\": \"\",\n        \"description\": \"\"\n      }\n    },\n    {\n      \"column\": \"humidity\",\n      \"properties\": {\n        \"dtype\": \"number\",\n        \"std\": 1011.2089659049487,\n        \"min\": 14.0,\n        \"max\": 2920.0,\n        \"num_unique_values\": 8,\n        \"samples\": [\n          73.51369863013699,\n          77.0,\n          2920.0\n        ],\n        \"semantic_type\": \"\",\n        \"description\": \"\"\n      }\n    },\n    {\n      \"column\": \"average-wind-speed-(period)\",\n      \"properties\": {\n        \"dtype\": \"number\",\n        \"std\": 1027.7298611225565,\n        \"min\": 0.0,\n        \"max\": 2919.0,\n        \"num_unique_values\": 8,\n        \"samples\": [\n          10.129153819801301,\n          9.0,\n          2919.0\n        ],\n        \"semantic_type\": \"\",\n        \"description\": \"\"\n      }\n    },\n    {\n      \"column\": \"average-pressure-(period)\",\n      \"properties\": {\n        \"dtype\": \"number\",\n        \"std\": 1023.327850842938,\n        \"min\": 0.14200583367403752,\n        \"max\": 2920.0,\n        \"num_unique_values\": 8,\n        \"samples\": [\n          30.017760273972602,\n          30.0,\n          2920.0\n        ],\n        \"semantic_type\": \"\",\n        \"description\": \"\"\n      }\n    },\n    {\n      \"column\": \"power-generated\",\n      \"properties\": {\n        \"dtype\": \"number\",\n        \"std\": 12262.840217023648,\n        \"min\": 0.0,\n        \"max\": 36580.0,\n        \"num_unique_values\": 7,\n        \"samples\": [\n          2920.0,\n          6979.846232876713,\n          12723.5\n        ],\n        \"semantic_type\": \"\",\n        \"description\": \"\"\n      }\n    }\n  ]\n}"
            }
          },
          "metadata": {},
          "execution_count": 11
        }
      ]
    },
    {
      "cell_type": "code",
      "source": [],
      "metadata": {
        "id": "hRA75Drxbz8o"
      },
      "execution_count": null,
      "outputs": []
    },
    {
      "cell_type": "code",
      "source": [
        "# Check for Duplicates"
      ],
      "metadata": {
        "id": "zkpOx74Zb3eG"
      },
      "execution_count": null,
      "outputs": []
    },
    {
      "cell_type": "code",
      "source": [
        "df.duplicated().sum()"
      ],
      "metadata": {
        "colab": {
          "base_uri": "https://localhost:8080/"
        },
        "id": "cmVNOOlBb6_o",
        "outputId": "616d8373-c26b-4f99-9d2f-38ae42106e49"
      },
      "execution_count": null,
      "outputs": [
        {
          "output_type": "execute_result",
          "data": {
            "text/plain": [
              "np.int64(0)"
            ]
          },
          "metadata": {},
          "execution_count": 13
        }
      ]
    },
    {
      "cell_type": "markdown",
      "source": [
        "No duplicates present in the dataset"
      ],
      "metadata": {
        "id": "Yr_nMN0IcR8g"
      }
    },
    {
      "cell_type": "code",
      "source": [],
      "metadata": {
        "id": "_O-KJdFWcedf"
      },
      "execution_count": null,
      "outputs": []
    }
  ]
}